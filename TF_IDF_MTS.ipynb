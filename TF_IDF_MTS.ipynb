{
  "nbformat": 4,
  "nbformat_minor": 0,
  "metadata": {
    "colab": {
      "provenance": [],
      "gpuType": "T4",
      "collapsed_sections": [
        "YoU9_DlXYR8_"
      ]
    },
    "kernelspec": {
      "name": "python3",
      "display_name": "Python 3"
    },
    "language_info": {
      "name": "python"
    },
    "widgets": {
      "application/vnd.jupyter.widget-state+json": {
        "962a08aa97394ed8bc1293bf49d4dc71": {
          "model_module": "@jupyter-widgets/controls",
          "model_name": "HBoxModel",
          "model_module_version": "1.5.0",
          "state": {
            "_dom_classes": [],
            "_model_module": "@jupyter-widgets/controls",
            "_model_module_version": "1.5.0",
            "_model_name": "HBoxModel",
            "_view_count": null,
            "_view_module": "@jupyter-widgets/controls",
            "_view_module_version": "1.5.0",
            "_view_name": "HBoxView",
            "box_style": "",
            "children": [
              "IPY_MODEL_16fbebd05f71447b9071d53961d4f265",
              "IPY_MODEL_4690dfdab8f442e48770a0be1b0a975d",
              "IPY_MODEL_b1ac438ab9d641768dbc1cc4eb057e36"
            ],
            "layout": "IPY_MODEL_f12a3a5d33514298b4b6acbf26e8206a"
          }
        },
        "16fbebd05f71447b9071d53961d4f265": {
          "model_module": "@jupyter-widgets/controls",
          "model_name": "HTMLModel",
          "model_module_version": "1.5.0",
          "state": {
            "_dom_classes": [],
            "_model_module": "@jupyter-widgets/controls",
            "_model_module_version": "1.5.0",
            "_model_name": "HTMLModel",
            "_view_count": null,
            "_view_module": "@jupyter-widgets/controls",
            "_view_module_version": "1.5.0",
            "_view_name": "HTMLView",
            "description": "",
            "description_tooltip": null,
            "layout": "IPY_MODEL_1b57746382384fcc9c9cd7a2f69c8064",
            "placeholder": "​",
            "style": "IPY_MODEL_9a50519bde094d2cbb3c94aed13d96ca",
            "value": "100%"
          }
        },
        "4690dfdab8f442e48770a0be1b0a975d": {
          "model_module": "@jupyter-widgets/controls",
          "model_name": "FloatProgressModel",
          "model_module_version": "1.5.0",
          "state": {
            "_dom_classes": [],
            "_model_module": "@jupyter-widgets/controls",
            "_model_module_version": "1.5.0",
            "_model_name": "FloatProgressModel",
            "_view_count": null,
            "_view_module": "@jupyter-widgets/controls",
            "_view_module_version": "1.5.0",
            "_view_name": "ProgressView",
            "bar_style": "success",
            "description": "",
            "description_tooltip": null,
            "layout": "IPY_MODEL_65f6929c4b7545fe830feb557d5f5c9f",
            "max": 3297,
            "min": 0,
            "orientation": "horizontal",
            "style": "IPY_MODEL_6f8c741f15d74beb92281010a83d89be",
            "value": 3297
          }
        },
        "b1ac438ab9d641768dbc1cc4eb057e36": {
          "model_module": "@jupyter-widgets/controls",
          "model_name": "HTMLModel",
          "model_module_version": "1.5.0",
          "state": {
            "_dom_classes": [],
            "_model_module": "@jupyter-widgets/controls",
            "_model_module_version": "1.5.0",
            "_model_name": "HTMLModel",
            "_view_count": null,
            "_view_module": "@jupyter-widgets/controls",
            "_view_module_version": "1.5.0",
            "_view_name": "HTMLView",
            "description": "",
            "description_tooltip": null,
            "layout": "IPY_MODEL_34cd0e9e996948d4a63aeb5b12b6bdad",
            "placeholder": "​",
            "style": "IPY_MODEL_9ffa05d5d0bb4d0a8fe405bdc3c1b452",
            "value": " 3297/3297 [00:01&lt;00:00, 2732.74it/s]"
          }
        },
        "f12a3a5d33514298b4b6acbf26e8206a": {
          "model_module": "@jupyter-widgets/base",
          "model_name": "LayoutModel",
          "model_module_version": "1.2.0",
          "state": {
            "_model_module": "@jupyter-widgets/base",
            "_model_module_version": "1.2.0",
            "_model_name": "LayoutModel",
            "_view_count": null,
            "_view_module": "@jupyter-widgets/base",
            "_view_module_version": "1.2.0",
            "_view_name": "LayoutView",
            "align_content": null,
            "align_items": null,
            "align_self": null,
            "border": null,
            "bottom": null,
            "display": null,
            "flex": null,
            "flex_flow": null,
            "grid_area": null,
            "grid_auto_columns": null,
            "grid_auto_flow": null,
            "grid_auto_rows": null,
            "grid_column": null,
            "grid_gap": null,
            "grid_row": null,
            "grid_template_areas": null,
            "grid_template_columns": null,
            "grid_template_rows": null,
            "height": null,
            "justify_content": null,
            "justify_items": null,
            "left": null,
            "margin": null,
            "max_height": null,
            "max_width": null,
            "min_height": null,
            "min_width": null,
            "object_fit": null,
            "object_position": null,
            "order": null,
            "overflow": null,
            "overflow_x": null,
            "overflow_y": null,
            "padding": null,
            "right": null,
            "top": null,
            "visibility": null,
            "width": null
          }
        },
        "1b57746382384fcc9c9cd7a2f69c8064": {
          "model_module": "@jupyter-widgets/base",
          "model_name": "LayoutModel",
          "model_module_version": "1.2.0",
          "state": {
            "_model_module": "@jupyter-widgets/base",
            "_model_module_version": "1.2.0",
            "_model_name": "LayoutModel",
            "_view_count": null,
            "_view_module": "@jupyter-widgets/base",
            "_view_module_version": "1.2.0",
            "_view_name": "LayoutView",
            "align_content": null,
            "align_items": null,
            "align_self": null,
            "border": null,
            "bottom": null,
            "display": null,
            "flex": null,
            "flex_flow": null,
            "grid_area": null,
            "grid_auto_columns": null,
            "grid_auto_flow": null,
            "grid_auto_rows": null,
            "grid_column": null,
            "grid_gap": null,
            "grid_row": null,
            "grid_template_areas": null,
            "grid_template_columns": null,
            "grid_template_rows": null,
            "height": null,
            "justify_content": null,
            "justify_items": null,
            "left": null,
            "margin": null,
            "max_height": null,
            "max_width": null,
            "min_height": null,
            "min_width": null,
            "object_fit": null,
            "object_position": null,
            "order": null,
            "overflow": null,
            "overflow_x": null,
            "overflow_y": null,
            "padding": null,
            "right": null,
            "top": null,
            "visibility": null,
            "width": null
          }
        },
        "9a50519bde094d2cbb3c94aed13d96ca": {
          "model_module": "@jupyter-widgets/controls",
          "model_name": "DescriptionStyleModel",
          "model_module_version": "1.5.0",
          "state": {
            "_model_module": "@jupyter-widgets/controls",
            "_model_module_version": "1.5.0",
            "_model_name": "DescriptionStyleModel",
            "_view_count": null,
            "_view_module": "@jupyter-widgets/base",
            "_view_module_version": "1.2.0",
            "_view_name": "StyleView",
            "description_width": ""
          }
        },
        "65f6929c4b7545fe830feb557d5f5c9f": {
          "model_module": "@jupyter-widgets/base",
          "model_name": "LayoutModel",
          "model_module_version": "1.2.0",
          "state": {
            "_model_module": "@jupyter-widgets/base",
            "_model_module_version": "1.2.0",
            "_model_name": "LayoutModel",
            "_view_count": null,
            "_view_module": "@jupyter-widgets/base",
            "_view_module_version": "1.2.0",
            "_view_name": "LayoutView",
            "align_content": null,
            "align_items": null,
            "align_self": null,
            "border": null,
            "bottom": null,
            "display": null,
            "flex": null,
            "flex_flow": null,
            "grid_area": null,
            "grid_auto_columns": null,
            "grid_auto_flow": null,
            "grid_auto_rows": null,
            "grid_column": null,
            "grid_gap": null,
            "grid_row": null,
            "grid_template_areas": null,
            "grid_template_columns": null,
            "grid_template_rows": null,
            "height": null,
            "justify_content": null,
            "justify_items": null,
            "left": null,
            "margin": null,
            "max_height": null,
            "max_width": null,
            "min_height": null,
            "min_width": null,
            "object_fit": null,
            "object_position": null,
            "order": null,
            "overflow": null,
            "overflow_x": null,
            "overflow_y": null,
            "padding": null,
            "right": null,
            "top": null,
            "visibility": null,
            "width": null
          }
        },
        "6f8c741f15d74beb92281010a83d89be": {
          "model_module": "@jupyter-widgets/controls",
          "model_name": "ProgressStyleModel",
          "model_module_version": "1.5.0",
          "state": {
            "_model_module": "@jupyter-widgets/controls",
            "_model_module_version": "1.5.0",
            "_model_name": "ProgressStyleModel",
            "_view_count": null,
            "_view_module": "@jupyter-widgets/base",
            "_view_module_version": "1.2.0",
            "_view_name": "StyleView",
            "bar_color": null,
            "description_width": ""
          }
        },
        "34cd0e9e996948d4a63aeb5b12b6bdad": {
          "model_module": "@jupyter-widgets/base",
          "model_name": "LayoutModel",
          "model_module_version": "1.2.0",
          "state": {
            "_model_module": "@jupyter-widgets/base",
            "_model_module_version": "1.2.0",
            "_model_name": "LayoutModel",
            "_view_count": null,
            "_view_module": "@jupyter-widgets/base",
            "_view_module_version": "1.2.0",
            "_view_name": "LayoutView",
            "align_content": null,
            "align_items": null,
            "align_self": null,
            "border": null,
            "bottom": null,
            "display": null,
            "flex": null,
            "flex_flow": null,
            "grid_area": null,
            "grid_auto_columns": null,
            "grid_auto_flow": null,
            "grid_auto_rows": null,
            "grid_column": null,
            "grid_gap": null,
            "grid_row": null,
            "grid_template_areas": null,
            "grid_template_columns": null,
            "grid_template_rows": null,
            "height": null,
            "justify_content": null,
            "justify_items": null,
            "left": null,
            "margin": null,
            "max_height": null,
            "max_width": null,
            "min_height": null,
            "min_width": null,
            "object_fit": null,
            "object_position": null,
            "order": null,
            "overflow": null,
            "overflow_x": null,
            "overflow_y": null,
            "padding": null,
            "right": null,
            "top": null,
            "visibility": null,
            "width": null
          }
        },
        "9ffa05d5d0bb4d0a8fe405bdc3c1b452": {
          "model_module": "@jupyter-widgets/controls",
          "model_name": "DescriptionStyleModel",
          "model_module_version": "1.5.0",
          "state": {
            "_model_module": "@jupyter-widgets/controls",
            "_model_module_version": "1.5.0",
            "_model_name": "DescriptionStyleModel",
            "_view_count": null,
            "_view_module": "@jupyter-widgets/base",
            "_view_module_version": "1.2.0",
            "_view_name": "StyleView",
            "description_width": ""
          }
        },
        "c182a77ec2ae44de94ff1499d02cdbdc": {
          "model_module": "@jupyter-widgets/controls",
          "model_name": "HBoxModel",
          "model_module_version": "1.5.0",
          "state": {
            "_dom_classes": [],
            "_model_module": "@jupyter-widgets/controls",
            "_model_module_version": "1.5.0",
            "_model_name": "HBoxModel",
            "_view_count": null,
            "_view_module": "@jupyter-widgets/controls",
            "_view_module_version": "1.5.0",
            "_view_name": "HBoxView",
            "box_style": "",
            "children": [
              "IPY_MODEL_52a331b10dc24521b39addac324de499",
              "IPY_MODEL_41568d819411415cbff0963bdd06527a",
              "IPY_MODEL_b811902b770b4af9a6663ad8381e606a"
            ],
            "layout": "IPY_MODEL_c8daf02448d24a4bb6585269118874d5"
          }
        },
        "52a331b10dc24521b39addac324de499": {
          "model_module": "@jupyter-widgets/controls",
          "model_name": "HTMLModel",
          "model_module_version": "1.5.0",
          "state": {
            "_dom_classes": [],
            "_model_module": "@jupyter-widgets/controls",
            "_model_module_version": "1.5.0",
            "_model_name": "HTMLModel",
            "_view_count": null,
            "_view_module": "@jupyter-widgets/controls",
            "_view_module_version": "1.5.0",
            "_view_name": "HTMLView",
            "description": "",
            "description_tooltip": null,
            "layout": "IPY_MODEL_d6d11ab7ffd948c4a60f1568426b6a21",
            "placeholder": "​",
            "style": "IPY_MODEL_69b235b694df4de29e98b23dfac2445a",
            "value": "100%"
          }
        },
        "41568d819411415cbff0963bdd06527a": {
          "model_module": "@jupyter-widgets/controls",
          "model_name": "FloatProgressModel",
          "model_module_version": "1.5.0",
          "state": {
            "_dom_classes": [],
            "_model_module": "@jupyter-widgets/controls",
            "_model_module_version": "1.5.0",
            "_model_name": "FloatProgressModel",
            "_view_count": null,
            "_view_module": "@jupyter-widgets/controls",
            "_view_module_version": "1.5.0",
            "_view_name": "ProgressView",
            "bar_style": "success",
            "description": "",
            "description_tooltip": null,
            "layout": "IPY_MODEL_de86acdaa58441ceab6b8516c4909adb",
            "max": 16,
            "min": 0,
            "orientation": "horizontal",
            "style": "IPY_MODEL_665c3db1267849908abe40456b2cfd77",
            "value": 16
          }
        },
        "b811902b770b4af9a6663ad8381e606a": {
          "model_module": "@jupyter-widgets/controls",
          "model_name": "HTMLModel",
          "model_module_version": "1.5.0",
          "state": {
            "_dom_classes": [],
            "_model_module": "@jupyter-widgets/controls",
            "_model_module_version": "1.5.0",
            "_model_name": "HTMLModel",
            "_view_count": null,
            "_view_module": "@jupyter-widgets/controls",
            "_view_module_version": "1.5.0",
            "_view_name": "HTMLView",
            "description": "",
            "description_tooltip": null,
            "layout": "IPY_MODEL_0efee9fbe3ce43db974c80d68a5f1472",
            "placeholder": "​",
            "style": "IPY_MODEL_ff615ef132f6481d8ff690f8a7176ac8",
            "value": " 16/16 [00:00&lt;00:00, 417.61it/s]"
          }
        },
        "c8daf02448d24a4bb6585269118874d5": {
          "model_module": "@jupyter-widgets/base",
          "model_name": "LayoutModel",
          "model_module_version": "1.2.0",
          "state": {
            "_model_module": "@jupyter-widgets/base",
            "_model_module_version": "1.2.0",
            "_model_name": "LayoutModel",
            "_view_count": null,
            "_view_module": "@jupyter-widgets/base",
            "_view_module_version": "1.2.0",
            "_view_name": "LayoutView",
            "align_content": null,
            "align_items": null,
            "align_self": null,
            "border": null,
            "bottom": null,
            "display": null,
            "flex": null,
            "flex_flow": null,
            "grid_area": null,
            "grid_auto_columns": null,
            "grid_auto_flow": null,
            "grid_auto_rows": null,
            "grid_column": null,
            "grid_gap": null,
            "grid_row": null,
            "grid_template_areas": null,
            "grid_template_columns": null,
            "grid_template_rows": null,
            "height": null,
            "justify_content": null,
            "justify_items": null,
            "left": null,
            "margin": null,
            "max_height": null,
            "max_width": null,
            "min_height": null,
            "min_width": null,
            "object_fit": null,
            "object_position": null,
            "order": null,
            "overflow": null,
            "overflow_x": null,
            "overflow_y": null,
            "padding": null,
            "right": null,
            "top": null,
            "visibility": null,
            "width": null
          }
        },
        "d6d11ab7ffd948c4a60f1568426b6a21": {
          "model_module": "@jupyter-widgets/base",
          "model_name": "LayoutModel",
          "model_module_version": "1.2.0",
          "state": {
            "_model_module": "@jupyter-widgets/base",
            "_model_module_version": "1.2.0",
            "_model_name": "LayoutModel",
            "_view_count": null,
            "_view_module": "@jupyter-widgets/base",
            "_view_module_version": "1.2.0",
            "_view_name": "LayoutView",
            "align_content": null,
            "align_items": null,
            "align_self": null,
            "border": null,
            "bottom": null,
            "display": null,
            "flex": null,
            "flex_flow": null,
            "grid_area": null,
            "grid_auto_columns": null,
            "grid_auto_flow": null,
            "grid_auto_rows": null,
            "grid_column": null,
            "grid_gap": null,
            "grid_row": null,
            "grid_template_areas": null,
            "grid_template_columns": null,
            "grid_template_rows": null,
            "height": null,
            "justify_content": null,
            "justify_items": null,
            "left": null,
            "margin": null,
            "max_height": null,
            "max_width": null,
            "min_height": null,
            "min_width": null,
            "object_fit": null,
            "object_position": null,
            "order": null,
            "overflow": null,
            "overflow_x": null,
            "overflow_y": null,
            "padding": null,
            "right": null,
            "top": null,
            "visibility": null,
            "width": null
          }
        },
        "69b235b694df4de29e98b23dfac2445a": {
          "model_module": "@jupyter-widgets/controls",
          "model_name": "DescriptionStyleModel",
          "model_module_version": "1.5.0",
          "state": {
            "_model_module": "@jupyter-widgets/controls",
            "_model_module_version": "1.5.0",
            "_model_name": "DescriptionStyleModel",
            "_view_count": null,
            "_view_module": "@jupyter-widgets/base",
            "_view_module_version": "1.2.0",
            "_view_name": "StyleView",
            "description_width": ""
          }
        },
        "de86acdaa58441ceab6b8516c4909adb": {
          "model_module": "@jupyter-widgets/base",
          "model_name": "LayoutModel",
          "model_module_version": "1.2.0",
          "state": {
            "_model_module": "@jupyter-widgets/base",
            "_model_module_version": "1.2.0",
            "_model_name": "LayoutModel",
            "_view_count": null,
            "_view_module": "@jupyter-widgets/base",
            "_view_module_version": "1.2.0",
            "_view_name": "LayoutView",
            "align_content": null,
            "align_items": null,
            "align_self": null,
            "border": null,
            "bottom": null,
            "display": null,
            "flex": null,
            "flex_flow": null,
            "grid_area": null,
            "grid_auto_columns": null,
            "grid_auto_flow": null,
            "grid_auto_rows": null,
            "grid_column": null,
            "grid_gap": null,
            "grid_row": null,
            "grid_template_areas": null,
            "grid_template_columns": null,
            "grid_template_rows": null,
            "height": null,
            "justify_content": null,
            "justify_items": null,
            "left": null,
            "margin": null,
            "max_height": null,
            "max_width": null,
            "min_height": null,
            "min_width": null,
            "object_fit": null,
            "object_position": null,
            "order": null,
            "overflow": null,
            "overflow_x": null,
            "overflow_y": null,
            "padding": null,
            "right": null,
            "top": null,
            "visibility": null,
            "width": null
          }
        },
        "665c3db1267849908abe40456b2cfd77": {
          "model_module": "@jupyter-widgets/controls",
          "model_name": "ProgressStyleModel",
          "model_module_version": "1.5.0",
          "state": {
            "_model_module": "@jupyter-widgets/controls",
            "_model_module_version": "1.5.0",
            "_model_name": "ProgressStyleModel",
            "_view_count": null,
            "_view_module": "@jupyter-widgets/base",
            "_view_module_version": "1.2.0",
            "_view_name": "StyleView",
            "bar_color": null,
            "description_width": ""
          }
        },
        "0efee9fbe3ce43db974c80d68a5f1472": {
          "model_module": "@jupyter-widgets/base",
          "model_name": "LayoutModel",
          "model_module_version": "1.2.0",
          "state": {
            "_model_module": "@jupyter-widgets/base",
            "_model_module_version": "1.2.0",
            "_model_name": "LayoutModel",
            "_view_count": null,
            "_view_module": "@jupyter-widgets/base",
            "_view_module_version": "1.2.0",
            "_view_name": "LayoutView",
            "align_content": null,
            "align_items": null,
            "align_self": null,
            "border": null,
            "bottom": null,
            "display": null,
            "flex": null,
            "flex_flow": null,
            "grid_area": null,
            "grid_auto_columns": null,
            "grid_auto_flow": null,
            "grid_auto_rows": null,
            "grid_column": null,
            "grid_gap": null,
            "grid_row": null,
            "grid_template_areas": null,
            "grid_template_columns": null,
            "grid_template_rows": null,
            "height": null,
            "justify_content": null,
            "justify_items": null,
            "left": null,
            "margin": null,
            "max_height": null,
            "max_width": null,
            "min_height": null,
            "min_width": null,
            "object_fit": null,
            "object_position": null,
            "order": null,
            "overflow": null,
            "overflow_x": null,
            "overflow_y": null,
            "padding": null,
            "right": null,
            "top": null,
            "visibility": null,
            "width": null
          }
        },
        "ff615ef132f6481d8ff690f8a7176ac8": {
          "model_module": "@jupyter-widgets/controls",
          "model_name": "DescriptionStyleModel",
          "model_module_version": "1.5.0",
          "state": {
            "_model_module": "@jupyter-widgets/controls",
            "_model_module_version": "1.5.0",
            "_model_name": "DescriptionStyleModel",
            "_view_count": null,
            "_view_module": "@jupyter-widgets/base",
            "_view_module_version": "1.2.0",
            "_view_name": "StyleView",
            "description_width": ""
          }
        },
        "0ae72732ca7b46d597b9ea38d322097a": {
          "model_module": "@jupyter-widgets/controls",
          "model_name": "HBoxModel",
          "model_module_version": "1.5.0",
          "state": {
            "_dom_classes": [],
            "_model_module": "@jupyter-widgets/controls",
            "_model_module_version": "1.5.0",
            "_model_name": "HBoxModel",
            "_view_count": null,
            "_view_module": "@jupyter-widgets/controls",
            "_view_module_version": "1.5.0",
            "_view_name": "HBoxView",
            "box_style": "",
            "children": [
              "IPY_MODEL_219b0cca233e43dca8dd7e19ad20568a",
              "IPY_MODEL_3a46a206984d4824b3cda192b4776d14",
              "IPY_MODEL_b6e7ea8bb5d1401a801c9c0e84077e5c"
            ],
            "layout": "IPY_MODEL_df67e0d6900748698cebe0bb0e72fec8"
          }
        },
        "219b0cca233e43dca8dd7e19ad20568a": {
          "model_module": "@jupyter-widgets/controls",
          "model_name": "HTMLModel",
          "model_module_version": "1.5.0",
          "state": {
            "_dom_classes": [],
            "_model_module": "@jupyter-widgets/controls",
            "_model_module_version": "1.5.0",
            "_model_name": "HTMLModel",
            "_view_count": null,
            "_view_module": "@jupyter-widgets/controls",
            "_view_module_version": "1.5.0",
            "_view_name": "HTMLView",
            "description": "",
            "description_tooltip": null,
            "layout": "IPY_MODEL_a7340c67923343cbb2f10c27716a3c3c",
            "placeholder": "​",
            "style": "IPY_MODEL_f700b7a6bfa34aa084e3da83841cec0b",
            "value": "100%"
          }
        },
        "3a46a206984d4824b3cda192b4776d14": {
          "model_module": "@jupyter-widgets/controls",
          "model_name": "FloatProgressModel",
          "model_module_version": "1.5.0",
          "state": {
            "_dom_classes": [],
            "_model_module": "@jupyter-widgets/controls",
            "_model_module_version": "1.5.0",
            "_model_name": "FloatProgressModel",
            "_view_count": null,
            "_view_module": "@jupyter-widgets/controls",
            "_view_module_version": "1.5.0",
            "_view_name": "ProgressView",
            "bar_style": "success",
            "description": "",
            "description_tooltip": null,
            "layout": "IPY_MODEL_6574a2fa69e74e0a911f9da669a6b96a",
            "max": 823,
            "min": 0,
            "orientation": "horizontal",
            "style": "IPY_MODEL_8a3a2050865c4561a590ccc7831b60a9",
            "value": 823
          }
        },
        "b6e7ea8bb5d1401a801c9c0e84077e5c": {
          "model_module": "@jupyter-widgets/controls",
          "model_name": "HTMLModel",
          "model_module_version": "1.5.0",
          "state": {
            "_dom_classes": [],
            "_model_module": "@jupyter-widgets/controls",
            "_model_module_version": "1.5.0",
            "_model_name": "HTMLModel",
            "_view_count": null,
            "_view_module": "@jupyter-widgets/controls",
            "_view_module_version": "1.5.0",
            "_view_name": "HTMLView",
            "description": "",
            "description_tooltip": null,
            "layout": "IPY_MODEL_9dce73892e84440e9731667040a54bee",
            "placeholder": "​",
            "style": "IPY_MODEL_9210bbb3b83248fdafa27f109c99ad7b",
            "value": " 823/823 [00:00&lt;00:00, 2909.66it/s]"
          }
        },
        "df67e0d6900748698cebe0bb0e72fec8": {
          "model_module": "@jupyter-widgets/base",
          "model_name": "LayoutModel",
          "model_module_version": "1.2.0",
          "state": {
            "_model_module": "@jupyter-widgets/base",
            "_model_module_version": "1.2.0",
            "_model_name": "LayoutModel",
            "_view_count": null,
            "_view_module": "@jupyter-widgets/base",
            "_view_module_version": "1.2.0",
            "_view_name": "LayoutView",
            "align_content": null,
            "align_items": null,
            "align_self": null,
            "border": null,
            "bottom": null,
            "display": null,
            "flex": null,
            "flex_flow": null,
            "grid_area": null,
            "grid_auto_columns": null,
            "grid_auto_flow": null,
            "grid_auto_rows": null,
            "grid_column": null,
            "grid_gap": null,
            "grid_row": null,
            "grid_template_areas": null,
            "grid_template_columns": null,
            "grid_template_rows": null,
            "height": null,
            "justify_content": null,
            "justify_items": null,
            "left": null,
            "margin": null,
            "max_height": null,
            "max_width": null,
            "min_height": null,
            "min_width": null,
            "object_fit": null,
            "object_position": null,
            "order": null,
            "overflow": null,
            "overflow_x": null,
            "overflow_y": null,
            "padding": null,
            "right": null,
            "top": null,
            "visibility": null,
            "width": null
          }
        },
        "a7340c67923343cbb2f10c27716a3c3c": {
          "model_module": "@jupyter-widgets/base",
          "model_name": "LayoutModel",
          "model_module_version": "1.2.0",
          "state": {
            "_model_module": "@jupyter-widgets/base",
            "_model_module_version": "1.2.0",
            "_model_name": "LayoutModel",
            "_view_count": null,
            "_view_module": "@jupyter-widgets/base",
            "_view_module_version": "1.2.0",
            "_view_name": "LayoutView",
            "align_content": null,
            "align_items": null,
            "align_self": null,
            "border": null,
            "bottom": null,
            "display": null,
            "flex": null,
            "flex_flow": null,
            "grid_area": null,
            "grid_auto_columns": null,
            "grid_auto_flow": null,
            "grid_auto_rows": null,
            "grid_column": null,
            "grid_gap": null,
            "grid_row": null,
            "grid_template_areas": null,
            "grid_template_columns": null,
            "grid_template_rows": null,
            "height": null,
            "justify_content": null,
            "justify_items": null,
            "left": null,
            "margin": null,
            "max_height": null,
            "max_width": null,
            "min_height": null,
            "min_width": null,
            "object_fit": null,
            "object_position": null,
            "order": null,
            "overflow": null,
            "overflow_x": null,
            "overflow_y": null,
            "padding": null,
            "right": null,
            "top": null,
            "visibility": null,
            "width": null
          }
        },
        "f700b7a6bfa34aa084e3da83841cec0b": {
          "model_module": "@jupyter-widgets/controls",
          "model_name": "DescriptionStyleModel",
          "model_module_version": "1.5.0",
          "state": {
            "_model_module": "@jupyter-widgets/controls",
            "_model_module_version": "1.5.0",
            "_model_name": "DescriptionStyleModel",
            "_view_count": null,
            "_view_module": "@jupyter-widgets/base",
            "_view_module_version": "1.2.0",
            "_view_name": "StyleView",
            "description_width": ""
          }
        },
        "6574a2fa69e74e0a911f9da669a6b96a": {
          "model_module": "@jupyter-widgets/base",
          "model_name": "LayoutModel",
          "model_module_version": "1.2.0",
          "state": {
            "_model_module": "@jupyter-widgets/base",
            "_model_module_version": "1.2.0",
            "_model_name": "LayoutModel",
            "_view_count": null,
            "_view_module": "@jupyter-widgets/base",
            "_view_module_version": "1.2.0",
            "_view_name": "LayoutView",
            "align_content": null,
            "align_items": null,
            "align_self": null,
            "border": null,
            "bottom": null,
            "display": null,
            "flex": null,
            "flex_flow": null,
            "grid_area": null,
            "grid_auto_columns": null,
            "grid_auto_flow": null,
            "grid_auto_rows": null,
            "grid_column": null,
            "grid_gap": null,
            "grid_row": null,
            "grid_template_areas": null,
            "grid_template_columns": null,
            "grid_template_rows": null,
            "height": null,
            "justify_content": null,
            "justify_items": null,
            "left": null,
            "margin": null,
            "max_height": null,
            "max_width": null,
            "min_height": null,
            "min_width": null,
            "object_fit": null,
            "object_position": null,
            "order": null,
            "overflow": null,
            "overflow_x": null,
            "overflow_y": null,
            "padding": null,
            "right": null,
            "top": null,
            "visibility": null,
            "width": null
          }
        },
        "8a3a2050865c4561a590ccc7831b60a9": {
          "model_module": "@jupyter-widgets/controls",
          "model_name": "ProgressStyleModel",
          "model_module_version": "1.5.0",
          "state": {
            "_model_module": "@jupyter-widgets/controls",
            "_model_module_version": "1.5.0",
            "_model_name": "ProgressStyleModel",
            "_view_count": null,
            "_view_module": "@jupyter-widgets/base",
            "_view_module_version": "1.2.0",
            "_view_name": "StyleView",
            "bar_color": null,
            "description_width": ""
          }
        },
        "9dce73892e84440e9731667040a54bee": {
          "model_module": "@jupyter-widgets/base",
          "model_name": "LayoutModel",
          "model_module_version": "1.2.0",
          "state": {
            "_model_module": "@jupyter-widgets/base",
            "_model_module_version": "1.2.0",
            "_model_name": "LayoutModel",
            "_view_count": null,
            "_view_module": "@jupyter-widgets/base",
            "_view_module_version": "1.2.0",
            "_view_name": "LayoutView",
            "align_content": null,
            "align_items": null,
            "align_self": null,
            "border": null,
            "bottom": null,
            "display": null,
            "flex": null,
            "flex_flow": null,
            "grid_area": null,
            "grid_auto_columns": null,
            "grid_auto_flow": null,
            "grid_auto_rows": null,
            "grid_column": null,
            "grid_gap": null,
            "grid_row": null,
            "grid_template_areas": null,
            "grid_template_columns": null,
            "grid_template_rows": null,
            "height": null,
            "justify_content": null,
            "justify_items": null,
            "left": null,
            "margin": null,
            "max_height": null,
            "max_width": null,
            "min_height": null,
            "min_width": null,
            "object_fit": null,
            "object_position": null,
            "order": null,
            "overflow": null,
            "overflow_x": null,
            "overflow_y": null,
            "padding": null,
            "right": null,
            "top": null,
            "visibility": null,
            "width": null
          }
        },
        "9210bbb3b83248fdafa27f109c99ad7b": {
          "model_module": "@jupyter-widgets/controls",
          "model_name": "DescriptionStyleModel",
          "model_module_version": "1.5.0",
          "state": {
            "_model_module": "@jupyter-widgets/controls",
            "_model_module_version": "1.5.0",
            "_model_name": "DescriptionStyleModel",
            "_view_count": null,
            "_view_module": "@jupyter-widgets/base",
            "_view_module_version": "1.2.0",
            "_view_name": "StyleView",
            "description_width": ""
          }
        }
      }
    },
    "accelerator": "GPU"
  },
  "cells": [
    {
      "cell_type": "markdown",
      "source": [
        "Распаковка датасета"
      ],
      "metadata": {
        "id": "f2Mbr3bQaOua"
      }
    },
    {
      "cell_type": "code",
      "source": [
        "!unzip \"/content/cccompetitionmts.zip\" -d \"/content/data\""
      ],
      "metadata": {
        "id": "pr8exPUb03sd"
      },
      "execution_count": null,
      "outputs": []
    },
    {
      "cell_type": "markdown",
      "source": [
        "# TF-IDF + RF"
      ],
      "metadata": {
        "id": "KMnC61z6YVTU"
      }
    },
    {
      "cell_type": "code",
      "source": [
        "import json\n",
        "import pandas as pd\n",
        "import numpy as np\n",
        "import matplotlib.pyplot as plt\n",
        "import seaborn as sns\n",
        "import re\n",
        "import nltk\n",
        "from tqdm.notebook import tqdm\n",
        "from sklearn import feature_extraction, model_selection, naive_bayes, pipeline, manifold, preprocessing\n",
        "import sklearn\n",
        "import gensim\n",
        "import gensim.downloader as gensim_api\n",
        "\n",
        "from sklearn.model_selection import train_test_split\n",
        "from sklearn.metrics import confusion_matrix,classification_report\n",
        "from sklearn.feature_extraction.text import CountVectorizer, TfidfVectorizer\n",
        "from sklearn.ensemble import RandomForestClassifier\n",
        "from sklearn.metrics import confusion_matrix,classification_report"
      ],
      "metadata": {
        "id": "4NZk5x1Mibga"
      },
      "execution_count": null,
      "outputs": []
    },
    {
      "cell_type": "markdown",
      "source": [
        "Вспомогательные процедуры для чтения и небольшой аугментации текстов"
      ],
      "metadata": {
        "id": "gNBJBC-uYiC7"
      }
    },
    {
      "cell_type": "code",
      "source": [
        "def getWords(text):\n",
        "    text=text[1:-2]\n",
        "    splitters=list(\"!#@$%^&*()_+=-<>/\\\\{}[];:'\\\"|?,.,~`\")\n",
        "    additional=[\"\\\\n\", \"\\\\t\"]\n",
        "    text = text.replace('#', \" reshetka \")\n",
        "    text = text.replace('@', \" sobaka \")\n",
        "    text = text.replace('->', \" StrelkaTo \")\n",
        "    text = text.replace('<-', \" StrelkaFrom \")\n",
        "    text = text.replace(';', \" tochkaszap \")\n",
        "    text = text.replace(':', \" dvoetoch \")\n",
        "\n",
        "    for i in additional:\n",
        "        text = text.replace(i, \" \")\n",
        "    for x in splitters:\n",
        "        text = text.replace(x, \" \")\n",
        "    while text.find(\"  \")!=-1:\n",
        "        text = text.replace(\"  \", \" \")\n",
        "    return text"
      ],
      "metadata": {
        "id": "YMNAT4hxhKrw"
      },
      "execution_count": null,
      "outputs": []
    },
    {
      "cell_type": "code",
      "source": [
        "def read_txt(path, prefix):\n",
        "    text = \"\"\n",
        "    with open(prefix+path, mode='r') as f:\n",
        "        text = getWords(str(f.read()))\n",
        "    return text"
      ],
      "metadata": {
        "id": "Y3h-1MVj1GNn"
      },
      "execution_count": null,
      "outputs": []
    },
    {
      "cell_type": "markdown",
      "source": [
        "Загрузка датасета"
      ],
      "metadata": {
        "id": "t6HCGn4bYu5S"
      }
    },
    {
      "cell_type": "code",
      "source": [
        "data = pd.read_csv(\"/content/data/train_labels.csv\", index_col=0)\n",
        "tqdm.pandas()\n",
        "data['text']=data.progress_apply(lambda row: read_txt(row['id'], \"/content/data/train/\"), axis = 1)"
      ],
      "metadata": {
        "colab": {
          "base_uri": "https://localhost:8080/",
          "height": 81,
          "referenced_widgets": [
            "962a08aa97394ed8bc1293bf49d4dc71",
            "16fbebd05f71447b9071d53961d4f265",
            "4690dfdab8f442e48770a0be1b0a975d",
            "b1ac438ab9d641768dbc1cc4eb057e36",
            "f12a3a5d33514298b4b6acbf26e8206a",
            "1b57746382384fcc9c9cd7a2f69c8064",
            "9a50519bde094d2cbb3c94aed13d96ca",
            "65f6929c4b7545fe830feb557d5f5c9f",
            "6f8c741f15d74beb92281010a83d89be",
            "34cd0e9e996948d4a63aeb5b12b6bdad",
            "9ffa05d5d0bb4d0a8fe405bdc3c1b452",
            "c182a77ec2ae44de94ff1499d02cdbdc",
            "52a331b10dc24521b39addac324de499",
            "41568d819411415cbff0963bdd06527a",
            "b811902b770b4af9a6663ad8381e606a",
            "c8daf02448d24a4bb6585269118874d5",
            "d6d11ab7ffd948c4a60f1568426b6a21",
            "69b235b694df4de29e98b23dfac2445a",
            "de86acdaa58441ceab6b8516c4909adb",
            "665c3db1267849908abe40456b2cfd77",
            "0efee9fbe3ce43db974c80d68a5f1472",
            "ff615ef132f6481d8ff690f8a7176ac8"
          ]
        },
        "id": "S4xHWjXHzu03",
        "outputId": "e59ee110-36ef-4686-b7c7-840001ffbc19"
      },
      "execution_count": null,
      "outputs": [
        {
          "output_type": "display_data",
          "data": {
            "text/plain": [
              "  0%|          | 0/3297 [00:00<?, ?it/s]"
            ],
            "application/vnd.jupyter.widget-view+json": {
              "version_major": 2,
              "version_minor": 0,
              "model_id": "962a08aa97394ed8bc1293bf49d4dc71"
            }
          },
          "metadata": {}
        },
        {
          "output_type": "display_data",
          "data": {
            "text/plain": [
              "  0%|          | 0/16 [00:00<?, ?it/s]"
            ],
            "application/vnd.jupyter.widget-view+json": {
              "version_major": 2,
              "version_minor": 0,
              "model_id": "c182a77ec2ae44de94ff1499d02cdbdc"
            }
          },
          "metadata": {}
        }
      ]
    },
    {
      "cell_type": "markdown",
      "source": [
        "Делим датасет на обучающую и тестовую выборки"
      ],
      "metadata": {
        "id": "CDxvBxvIYx7I"
      }
    },
    {
      "cell_type": "code",
      "source": [
        "X_train, X_test , y_train, y_test = sklearn.model_selection.train_test_split(data['text'].values,data['label'].values,test_size=0.15,random_state=42,stratify=data['label'].values)"
      ],
      "metadata": {
        "id": "cdGD4ERAzDaq"
      },
      "execution_count": null,
      "outputs": []
    },
    {
      "cell_type": "markdown",
      "source": [
        "Обучеаем модель"
      ],
      "metadata": {
        "id": "xaZhmiEDY4Eu"
      }
    },
    {
      "cell_type": "code",
      "source": [
        "tfidf_vectorizer = TfidfVectorizer()"
      ],
      "metadata": {
        "id": "V-7z47S10i2z"
      },
      "execution_count": null,
      "outputs": []
    },
    {
      "cell_type": "code",
      "source": [
        "tfidf_train_vectors = tfidf_vectorizer.fit_transform(X_train)\n",
        "tfidf_test_vectors = tfidf_vectorizer.transform(X_test)"
      ],
      "metadata": {
        "id": "Tx94t6Bc0_vP"
      },
      "execution_count": null,
      "outputs": []
    },
    {
      "cell_type": "code",
      "source": [
        "classifier = RandomForestClassifier()"
      ],
      "metadata": {
        "id": "aaneLn9J1IVU"
      },
      "execution_count": null,
      "outputs": []
    },
    {
      "cell_type": "code",
      "source": [
        "classifier.fit(tfidf_train_vectors,y_train)"
      ],
      "metadata": {
        "id": "1wZV8ldQZCLR"
      },
      "execution_count": null,
      "outputs": []
    },
    {
      "cell_type": "code",
      "source": [
        "y_pred = classifier.predict(tfidf_test_vectors)"
      ],
      "metadata": {
        "id": "CwpkzvUW1Syb"
      },
      "execution_count": null,
      "outputs": []
    },
    {
      "cell_type": "markdown",
      "source": [
        "Метрики полученной модели"
      ],
      "metadata": {
        "id": "wpTZfBFRY9S9"
      }
    },
    {
      "cell_type": "code",
      "source": [
        "print(classification_report(y_test,y_pred))"
      ],
      "metadata": {
        "colab": {
          "base_uri": "https://localhost:8080/"
        },
        "id": "zp0T7MNF1U9w",
        "outputId": "3f1c9e47-6e49-4672-93a0-7caab5699089"
      },
      "execution_count": null,
      "outputs": [
        {
          "output_type": "stream",
          "name": "stdout",
          "text": [
            "              precision    recall  f1-score   support\n",
            "\n",
            "           0       1.00      0.98      0.99        42\n",
            "           1       1.00      1.00      1.00        45\n",
            "           2       1.00      1.00      1.00         8\n",
            "           3       0.99      1.00      0.99        95\n",
            "           4       1.00      1.00      1.00        71\n",
            "           5       1.00      1.00      1.00        56\n",
            "           6       1.00      1.00      1.00        15\n",
            "\n",
            "    accuracy                           1.00       332\n",
            "   macro avg       1.00      1.00      1.00       332\n",
            "weighted avg       1.00      1.00      1.00       332\n",
            "\n"
          ]
        }
      ]
    },
    {
      "cell_type": "markdown",
      "source": [
        "Загружаем тестовую часть"
      ],
      "metadata": {
        "id": "NRg07k6eZERl"
      }
    },
    {
      "cell_type": "code",
      "source": [
        "datae = pd.read_csv(\"/content/data/test_ids.csv\", index_col=0)\n",
        "\n",
        "tqdm.pandas()\n",
        "datae['text']=datae.progress_apply(lambda row: read_txt(row['id'], \"/content/data/test/\"), axis = 1)\n",
        "datae.tail()"
      ],
      "metadata": {
        "colab": {
          "base_uri": "https://localhost:8080/",
          "height": 238,
          "referenced_widgets": [
            "0ae72732ca7b46d597b9ea38d322097a",
            "219b0cca233e43dca8dd7e19ad20568a",
            "3a46a206984d4824b3cda192b4776d14",
            "b6e7ea8bb5d1401a801c9c0e84077e5c",
            "df67e0d6900748698cebe0bb0e72fec8",
            "a7340c67923343cbb2f10c27716a3c3c",
            "f700b7a6bfa34aa084e3da83841cec0b",
            "6574a2fa69e74e0a911f9da669a6b96a",
            "8a3a2050865c4561a590ccc7831b60a9",
            "9dce73892e84440e9731667040a54bee",
            "9210bbb3b83248fdafa27f109c99ad7b"
          ]
        },
        "id": "XFgN365s1fec",
        "outputId": "415b0045-7aea-490b-e9da-f7854206f6bc"
      },
      "execution_count": null,
      "outputs": [
        {
          "output_type": "display_data",
          "data": {
            "text/plain": [
              "  0%|          | 0/823 [00:00<?, ?it/s]"
            ],
            "application/vnd.jupyter.widget-view+json": {
              "version_major": 2,
              "version_minor": 0,
              "model_id": "0ae72732ca7b46d597b9ea38d322097a"
            }
          },
          "metadata": {}
        },
        {
          "output_type": "execute_result",
          "data": {
            "text/plain": [
              "                   id                                               text\n",
              "818  script_14110.txt   package lyons entity tochkaszap Gsales g xb9 ...\n",
              "819  script_14111.txt   using System Diagnostics tochkaszap namespace...\n",
              "820  script_14112.txt   reshetka Extract Data Information From Argume...\n",
              "821  script_14113.txt   reshetka LANGUAGE FlexibleInstances reshetka ...\n",
              "822  script_14114.txt   package com loper7 datepicker import android ..."
            ],
            "text/html": [
              "\n",
              "  <div id=\"df-c680ce49-8a77-4fde-b99a-5a60bacdfbda\">\n",
              "    <div class=\"colab-df-container\">\n",
              "      <div>\n",
              "<style scoped>\n",
              "    .dataframe tbody tr th:only-of-type {\n",
              "        vertical-align: middle;\n",
              "    }\n",
              "\n",
              "    .dataframe tbody tr th {\n",
              "        vertical-align: top;\n",
              "    }\n",
              "\n",
              "    .dataframe thead th {\n",
              "        text-align: right;\n",
              "    }\n",
              "</style>\n",
              "<table border=\"1\" class=\"dataframe\">\n",
              "  <thead>\n",
              "    <tr style=\"text-align: right;\">\n",
              "      <th></th>\n",
              "      <th>id</th>\n",
              "      <th>text</th>\n",
              "    </tr>\n",
              "  </thead>\n",
              "  <tbody>\n",
              "    <tr>\n",
              "      <th>818</th>\n",
              "      <td>script_14110.txt</td>\n",
              "      <td>package lyons entity tochkaszap Gsales g xb9 ...</td>\n",
              "    </tr>\n",
              "    <tr>\n",
              "      <th>819</th>\n",
              "      <td>script_14111.txt</td>\n",
              "      <td>using System Diagnostics tochkaszap namespace...</td>\n",
              "    </tr>\n",
              "    <tr>\n",
              "      <th>820</th>\n",
              "      <td>script_14112.txt</td>\n",
              "      <td>reshetka Extract Data Information From Argume...</td>\n",
              "    </tr>\n",
              "    <tr>\n",
              "      <th>821</th>\n",
              "      <td>script_14113.txt</td>\n",
              "      <td>reshetka LANGUAGE FlexibleInstances reshetka ...</td>\n",
              "    </tr>\n",
              "    <tr>\n",
              "      <th>822</th>\n",
              "      <td>script_14114.txt</td>\n",
              "      <td>package com loper7 datepicker import android ...</td>\n",
              "    </tr>\n",
              "  </tbody>\n",
              "</table>\n",
              "</div>\n",
              "      <button class=\"colab-df-convert\" onclick=\"convertToInteractive('df-c680ce49-8a77-4fde-b99a-5a60bacdfbda')\"\n",
              "              title=\"Convert this dataframe to an interactive table.\"\n",
              "              style=\"display:none;\">\n",
              "        \n",
              "  <svg xmlns=\"http://www.w3.org/2000/svg\" height=\"24px\"viewBox=\"0 0 24 24\"\n",
              "       width=\"24px\">\n",
              "    <path d=\"M0 0h24v24H0V0z\" fill=\"none\"/>\n",
              "    <path d=\"M18.56 5.44l.94 2.06.94-2.06 2.06-.94-2.06-.94-.94-2.06-.94 2.06-2.06.94zm-11 1L8.5 8.5l.94-2.06 2.06-.94-2.06-.94L8.5 2.5l-.94 2.06-2.06.94zm10 10l.94 2.06.94-2.06 2.06-.94-2.06-.94-.94-2.06-.94 2.06-2.06.94z\"/><path d=\"M17.41 7.96l-1.37-1.37c-.4-.4-.92-.59-1.43-.59-.52 0-1.04.2-1.43.59L10.3 9.45l-7.72 7.72c-.78.78-.78 2.05 0 2.83L4 21.41c.39.39.9.59 1.41.59.51 0 1.02-.2 1.41-.59l7.78-7.78 2.81-2.81c.8-.78.8-2.07 0-2.86zM5.41 20L4 18.59l7.72-7.72 1.47 1.35L5.41 20z\"/>\n",
              "  </svg>\n",
              "      </button>\n",
              "      \n",
              "  <style>\n",
              "    .colab-df-container {\n",
              "      display:flex;\n",
              "      flex-wrap:wrap;\n",
              "      gap: 12px;\n",
              "    }\n",
              "\n",
              "    .colab-df-convert {\n",
              "      background-color: #E8F0FE;\n",
              "      border: none;\n",
              "      border-radius: 50%;\n",
              "      cursor: pointer;\n",
              "      display: none;\n",
              "      fill: #1967D2;\n",
              "      height: 32px;\n",
              "      padding: 0 0 0 0;\n",
              "      width: 32px;\n",
              "    }\n",
              "\n",
              "    .colab-df-convert:hover {\n",
              "      background-color: #E2EBFA;\n",
              "      box-shadow: 0px 1px 2px rgba(60, 64, 67, 0.3), 0px 1px 3px 1px rgba(60, 64, 67, 0.15);\n",
              "      fill: #174EA6;\n",
              "    }\n",
              "\n",
              "    [theme=dark] .colab-df-convert {\n",
              "      background-color: #3B4455;\n",
              "      fill: #D2E3FC;\n",
              "    }\n",
              "\n",
              "    [theme=dark] .colab-df-convert:hover {\n",
              "      background-color: #434B5C;\n",
              "      box-shadow: 0px 1px 3px 1px rgba(0, 0, 0, 0.15);\n",
              "      filter: drop-shadow(0px 1px 2px rgba(0, 0, 0, 0.3));\n",
              "      fill: #FFFFFF;\n",
              "    }\n",
              "  </style>\n",
              "\n",
              "      <script>\n",
              "        const buttonEl =\n",
              "          document.querySelector('#df-c680ce49-8a77-4fde-b99a-5a60bacdfbda button.colab-df-convert');\n",
              "        buttonEl.style.display =\n",
              "          google.colab.kernel.accessAllowed ? 'block' : 'none';\n",
              "\n",
              "        async function convertToInteractive(key) {\n",
              "          const element = document.querySelector('#df-c680ce49-8a77-4fde-b99a-5a60bacdfbda');\n",
              "          const dataTable =\n",
              "            await google.colab.kernel.invokeFunction('convertToInteractive',\n",
              "                                                     [key], {});\n",
              "          if (!dataTable) return;\n",
              "\n",
              "          const docLinkHtml = 'Like what you see? Visit the ' +\n",
              "            '<a target=\"_blank\" href=https://colab.research.google.com/notebooks/data_table.ipynb>data table notebook</a>'\n",
              "            + ' to learn more about interactive tables.';\n",
              "          element.innerHTML = '';\n",
              "          dataTable['output_type'] = 'display_data';\n",
              "          await google.colab.output.renderOutput(dataTable, element);\n",
              "          const docLink = document.createElement('div');\n",
              "          docLink.innerHTML = docLinkHtml;\n",
              "          element.appendChild(docLink);\n",
              "        }\n",
              "      </script>\n",
              "    </div>\n",
              "  </div>\n",
              "  "
            ]
          },
          "metadata": {},
          "execution_count": 63
        }
      ]
    },
    {
      "cell_type": "markdown",
      "source": [
        "Запускаем модель на тестовой выборке"
      ],
      "metadata": {
        "id": "p5YEsjY-ZRK2"
      }
    },
    {
      "cell_type": "code",
      "source": [
        "eval_vectors = tfidf_vectorizer.transform(datae['text'])\n",
        "#e_pred = catboost_model.predict(eval_vectors)\n",
        "\n",
        "e_pred = classifier.predict(eval_vectors)"
      ],
      "metadata": {
        "id": "o8Xse48b1vyr"
      },
      "execution_count": null,
      "outputs": []
    },
    {
      "cell_type": "markdown",
      "source": [
        "Записываем ответ"
      ],
      "metadata": {
        "id": "7peOFwCiZdCV"
      }
    },
    {
      "cell_type": "code",
      "source": [
        "submission=pd.read_csv(\"/content/data/test_ids.csv\", index_col=0)\n",
        "submission['label']=e_pred.squeeze().tolist()\n",
        "submission.reset_index(drop=True).to_csv(\"output.csv\", index=False)"
      ],
      "metadata": {
        "id": "lT68fnr12LjZ"
      },
      "execution_count": null,
      "outputs": []
    },
    {
      "cell_type": "markdown",
      "source": [
        "# Catboost"
      ],
      "metadata": {
        "id": "YoU9_DlXYR8_"
      }
    },
    {
      "cell_type": "code",
      "source": [
        "!pip install catboost"
      ],
      "metadata": {
        "id": "jkP7prpo_F-4"
      },
      "execution_count": null,
      "outputs": []
    },
    {
      "cell_type": "code",
      "source": [
        "from catboost import Pool, CatBoostClassifier\n",
        "catboost_model = CatBoostClassifier(learning_rate=0.03,task_type=\"GPU\",\n",
        "                           loss_function='MultiClass')"
      ],
      "metadata": {
        "id": "wCER9GLq_TEd"
      },
      "execution_count": null,
      "outputs": []
    },
    {
      "cell_type": "code",
      "source": [
        "cb_val_dataset = Pool(data=tfidf_test_vectors,\n",
        "                    label=y_test)\n",
        "catboost_model.fit(tfidf_train_vectors,\n",
        "          y_train,\n",
        "          eval_set=cb_val_dataset)"
      ],
      "metadata": {
        "id": "D-j2D4XW_ffS"
      },
      "execution_count": null,
      "outputs": []
    },
    {
      "cell_type": "code",
      "source": [
        "y_pred = catboost_model.predict(tfidf_test_vectors)"
      ],
      "metadata": {
        "id": "j9EoWgeNAyI4"
      },
      "execution_count": null,
      "outputs": []
    },
    {
      "cell_type": "code",
      "source": [
        "print(classification_report(y_train,y_predtrain))"
      ],
      "metadata": {
        "colab": {
          "base_uri": "https://localhost:8080/"
        },
        "id": "h4H5CNoqEI5Q",
        "outputId": "6753b652-2304-4347-b1c9-27838b54220b"
      },
      "execution_count": null,
      "outputs": [
        {
          "output_type": "stream",
          "name": "stdout",
          "text": [
            "              precision    recall  f1-score   support\n",
            "\n",
            "           0       1.00      1.00      1.00       377\n",
            "           1       1.00      1.00      1.00       400\n",
            "           2       1.00      1.00      1.00        68\n",
            "           3       1.00      1.00      1.00       857\n",
            "           4       1.00      1.00      1.00       639\n",
            "           5       1.00      1.00      1.00       503\n",
            "           6       1.00      1.00      1.00       137\n",
            "\n",
            "    accuracy                           1.00      2981\n",
            "   macro avg       1.00      1.00      1.00      2981\n",
            "weighted avg       1.00      1.00      1.00      2981\n",
            "\n"
          ]
        }
      ]
    },
    {
      "cell_type": "code",
      "source": [
        "e_pred.squeeze()"
      ],
      "metadata": {
        "colab": {
          "base_uri": "https://localhost:8080/"
        },
        "id": "sAMl1CO9BLUx",
        "outputId": "6aa6879e-6ed3-4801-e827-a84dafce03fe"
      },
      "execution_count": null,
      "outputs": [
        {
          "output_type": "execute_result",
          "data": {
            "text/plain": [
              "array([5, 4, 1, 3, 1, 1, 3, 3, 6, 0, 4, 3, 5, 5, 0, 1, 5, 4, 1, 0, 5, 1,\n",
              "       0, 3, 5, 1, 5, 3, 5, 4, 4, 3, 5, 0, 3, 4, 3, 5, 3, 1, 4, 1, 3, 5,\n",
              "       1, 5, 5, 5, 5, 6, 0, 3, 3, 1, 3, 1, 3, 5, 3, 3, 3, 3, 0, 2, 1, 3,\n",
              "       3, 6, 3, 3, 4, 5, 0, 3, 3, 3, 3, 0, 5, 3, 5, 0, 5, 3, 4, 6, 5, 5,\n",
              "       3, 1, 1, 3, 5, 4, 3, 3, 4, 6, 3, 3, 4, 3, 4, 5, 3, 1, 3, 4, 3, 4,\n",
              "       3, 0, 1, 4, 0, 3, 5, 5, 3, 3, 4, 3, 4, 4, 4, 1, 5, 1, 1, 1, 3, 5,\n",
              "       5, 3, 4, 3, 4, 1, 3, 4, 3, 3, 3, 5, 3, 5, 0, 1, 1, 6, 3, 1, 5, 1,\n",
              "       1, 5, 3, 3, 0, 5, 0, 5, 3, 1, 2, 4, 3, 1, 1, 5, 4, 5, 5, 5, 1, 3,\n",
              "       3, 5, 5, 1, 3, 0, 1, 4, 4, 5, 4, 0, 0, 3, 5, 5, 5, 0, 4, 3, 4, 4,\n",
              "       1, 3, 4, 4, 4, 5, 0, 4, 4, 5, 4, 5, 0, 3, 3, 4, 4, 5, 4, 3, 0, 0,\n",
              "       3, 6, 3, 3, 4, 1, 3, 5, 3, 1, 5, 4, 0, 1, 4, 4, 1, 0, 3, 4, 1, 4,\n",
              "       3, 3, 3, 5, 0, 3, 4, 3, 5, 3, 6, 3, 3, 5, 3, 1, 0, 6, 4, 3, 5, 3,\n",
              "       3, 4, 1, 4, 1, 6, 1, 0, 5, 1, 0, 4, 1, 3, 4, 2, 4, 5, 0, 3, 3, 3,\n",
              "       0, 1, 0, 4, 3, 6, 0, 4, 3, 4, 3, 3, 3, 3, 3, 5, 3, 0, 3, 3, 4, 5,\n",
              "       3, 3, 3, 0, 5, 3, 3, 5, 5, 1, 1, 0, 3, 1, 3, 5, 5, 5, 4, 3, 4, 3,\n",
              "       3, 4, 4, 1, 4, 0, 0, 3, 3, 1, 3, 4, 5, 0, 0, 3, 4, 4, 3, 4, 0, 3,\n",
              "       4, 5, 0, 1, 1, 5, 5, 3, 3, 1, 0, 4, 4, 3, 3, 4, 3, 6, 4, 0, 0, 4,\n",
              "       0, 4, 1, 3, 0, 2, 3, 1, 4, 3, 5, 0, 4, 3, 6, 0, 2, 1, 4, 5, 4, 6,\n",
              "       3, 1, 3, 3, 0, 3, 5, 5, 5, 5, 4, 6, 1, 3, 5, 3, 1, 1, 4, 3, 4, 3,\n",
              "       1, 0, 5, 4, 3, 3, 2, 4, 6, 4, 4, 3, 5, 1, 3, 3, 3, 3, 6, 4, 3, 6,\n",
              "       3, 0, 3, 4, 3, 4, 4, 6, 4, 1, 3, 5, 6, 0, 1, 0, 1, 3, 4, 0, 4, 1,\n",
              "       4, 4, 4, 1, 3, 4, 0, 6, 4, 1, 5, 5, 4, 3, 4, 6, 4, 1, 3, 2, 5, 3,\n",
              "       4, 1, 3, 4, 1, 0, 1, 5, 3, 3, 4, 3, 4, 4, 1, 0, 1, 4, 4, 3, 3, 0,\n",
              "       5, 5, 0, 3, 0, 3, 4, 4, 0, 6, 3, 3, 5, 5, 3, 6, 3, 1, 0, 4, 5, 0,\n",
              "       0, 1, 2, 1, 5, 4, 3, 5, 3, 0, 0, 0, 1, 3, 3, 3, 5, 3, 5, 3, 5, 3,\n",
              "       3, 1, 4, 0, 3, 3, 5, 0, 0, 3, 0, 5, 4, 0, 4, 3, 5, 5, 1, 0, 0, 1,\n",
              "       5, 4, 1, 5, 3, 5, 1, 6, 3, 1, 5, 3, 3, 4, 5, 0, 5, 0, 1, 2, 3, 4,\n",
              "       5, 3, 4, 1, 3, 4, 3, 1, 0, 1, 5, 3, 3, 0, 0, 3, 4, 3, 3, 0, 3, 4,\n",
              "       3, 4, 1, 6, 4, 5, 3, 1, 4, 3, 3, 6, 4, 0, 3, 4, 3, 3, 4, 1, 3, 4,\n",
              "       3, 3, 5, 3, 4, 3, 4, 0, 3, 3, 4, 3, 1, 3, 4, 3, 6, 3, 4, 3, 0, 3,\n",
              "       5, 3, 3, 4, 4, 0, 3, 6, 5, 4, 4, 5, 1, 4, 3, 4, 4, 4, 0, 3, 1, 5,\n",
              "       2, 0, 4, 3, 4, 1, 3, 5, 5, 1, 2, 1, 1, 3, 4, 4, 3, 4, 3, 5, 5, 3,\n",
              "       0, 1, 4, 4, 3, 6, 5, 4, 4, 3, 0, 0, 5, 0, 3, 3, 3, 4, 5, 4, 4, 4,\n",
              "       3, 3, 5, 1, 0, 3, 1, 5, 3, 0, 3, 6, 4, 4, 1, 6, 5, 1, 5, 5, 2, 4,\n",
              "       5, 4, 3, 5, 1, 4, 1, 4, 1, 4, 4, 1, 3, 5, 5, 0, 4, 0, 0, 1, 4, 5,\n",
              "       4, 4, 1, 3, 5, 4, 4, 3, 5, 3, 4, 0, 5, 4, 5, 5, 3, 3, 0, 0, 2, 4,\n",
              "       0, 6, 4, 4, 0, 4, 4, 5, 2, 0, 5, 3, 3, 4, 0, 5, 3, 5, 3, 3, 1, 2,\n",
              "       4, 1, 4, 5, 4, 0, 6, 3, 5])"
            ]
          },
          "metadata": {},
          "execution_count": 65
        }
      ]
    },
    {
      "cell_type": "code",
      "source": [
        "submission=pd.read_csv(\"/content/data/test_ids.csv\", index_col=0)\n",
        "submission['label']=e_pred.squeeze().tolist()\n",
        "submission.reset_index(drop=True).to_csv(\"output.csv\", index=False)\n",
        "submission"
      ],
      "metadata": {
        "colab": {
          "base_uri": "https://localhost:8080/",
          "height": 424
        },
        "id": "CCFsaiYR2Q8l",
        "outputId": "c2d36e1a-d585-4285-b6ec-4979740b26e5"
      },
      "execution_count": null,
      "outputs": [
        {
          "output_type": "execute_result",
          "data": {
            "text/plain": [
              "                   id  label\n",
              "0    script_13292.txt      5\n",
              "1    script_13293.txt      4\n",
              "2    script_13294.txt      1\n",
              "3    script_13295.txt      3\n",
              "4    script_13296.txt      1\n",
              "..                ...    ...\n",
              "818  script_14110.txt      4\n",
              "819  script_14111.txt      0\n",
              "820  script_14112.txt      6\n",
              "821  script_14113.txt      3\n",
              "822  script_14114.txt      5\n",
              "\n",
              "[823 rows x 2 columns]"
            ],
            "text/html": [
              "\n",
              "  <div id=\"df-45594925-64f4-40ce-af0a-5fc10799d791\">\n",
              "    <div class=\"colab-df-container\">\n",
              "      <div>\n",
              "<style scoped>\n",
              "    .dataframe tbody tr th:only-of-type {\n",
              "        vertical-align: middle;\n",
              "    }\n",
              "\n",
              "    .dataframe tbody tr th {\n",
              "        vertical-align: top;\n",
              "    }\n",
              "\n",
              "    .dataframe thead th {\n",
              "        text-align: right;\n",
              "    }\n",
              "</style>\n",
              "<table border=\"1\" class=\"dataframe\">\n",
              "  <thead>\n",
              "    <tr style=\"text-align: right;\">\n",
              "      <th></th>\n",
              "      <th>id</th>\n",
              "      <th>label</th>\n",
              "    </tr>\n",
              "  </thead>\n",
              "  <tbody>\n",
              "    <tr>\n",
              "      <th>0</th>\n",
              "      <td>script_13292.txt</td>\n",
              "      <td>5</td>\n",
              "    </tr>\n",
              "    <tr>\n",
              "      <th>1</th>\n",
              "      <td>script_13293.txt</td>\n",
              "      <td>4</td>\n",
              "    </tr>\n",
              "    <tr>\n",
              "      <th>2</th>\n",
              "      <td>script_13294.txt</td>\n",
              "      <td>1</td>\n",
              "    </tr>\n",
              "    <tr>\n",
              "      <th>3</th>\n",
              "      <td>script_13295.txt</td>\n",
              "      <td>3</td>\n",
              "    </tr>\n",
              "    <tr>\n",
              "      <th>4</th>\n",
              "      <td>script_13296.txt</td>\n",
              "      <td>1</td>\n",
              "    </tr>\n",
              "    <tr>\n",
              "      <th>...</th>\n",
              "      <td>...</td>\n",
              "      <td>...</td>\n",
              "    </tr>\n",
              "    <tr>\n",
              "      <th>818</th>\n",
              "      <td>script_14110.txt</td>\n",
              "      <td>4</td>\n",
              "    </tr>\n",
              "    <tr>\n",
              "      <th>819</th>\n",
              "      <td>script_14111.txt</td>\n",
              "      <td>0</td>\n",
              "    </tr>\n",
              "    <tr>\n",
              "      <th>820</th>\n",
              "      <td>script_14112.txt</td>\n",
              "      <td>6</td>\n",
              "    </tr>\n",
              "    <tr>\n",
              "      <th>821</th>\n",
              "      <td>script_14113.txt</td>\n",
              "      <td>3</td>\n",
              "    </tr>\n",
              "    <tr>\n",
              "      <th>822</th>\n",
              "      <td>script_14114.txt</td>\n",
              "      <td>5</td>\n",
              "    </tr>\n",
              "  </tbody>\n",
              "</table>\n",
              "<p>823 rows × 2 columns</p>\n",
              "</div>\n",
              "      <button class=\"colab-df-convert\" onclick=\"convertToInteractive('df-45594925-64f4-40ce-af0a-5fc10799d791')\"\n",
              "              title=\"Convert this dataframe to an interactive table.\"\n",
              "              style=\"display:none;\">\n",
              "        \n",
              "  <svg xmlns=\"http://www.w3.org/2000/svg\" height=\"24px\"viewBox=\"0 0 24 24\"\n",
              "       width=\"24px\">\n",
              "    <path d=\"M0 0h24v24H0V0z\" fill=\"none\"/>\n",
              "    <path d=\"M18.56 5.44l.94 2.06.94-2.06 2.06-.94-2.06-.94-.94-2.06-.94 2.06-2.06.94zm-11 1L8.5 8.5l.94-2.06 2.06-.94-2.06-.94L8.5 2.5l-.94 2.06-2.06.94zm10 10l.94 2.06.94-2.06 2.06-.94-2.06-.94-.94-2.06-.94 2.06-2.06.94z\"/><path d=\"M17.41 7.96l-1.37-1.37c-.4-.4-.92-.59-1.43-.59-.52 0-1.04.2-1.43.59L10.3 9.45l-7.72 7.72c-.78.78-.78 2.05 0 2.83L4 21.41c.39.39.9.59 1.41.59.51 0 1.02-.2 1.41-.59l7.78-7.78 2.81-2.81c.8-.78.8-2.07 0-2.86zM5.41 20L4 18.59l7.72-7.72 1.47 1.35L5.41 20z\"/>\n",
              "  </svg>\n",
              "      </button>\n",
              "      \n",
              "  <style>\n",
              "    .colab-df-container {\n",
              "      display:flex;\n",
              "      flex-wrap:wrap;\n",
              "      gap: 12px;\n",
              "    }\n",
              "\n",
              "    .colab-df-convert {\n",
              "      background-color: #E8F0FE;\n",
              "      border: none;\n",
              "      border-radius: 50%;\n",
              "      cursor: pointer;\n",
              "      display: none;\n",
              "      fill: #1967D2;\n",
              "      height: 32px;\n",
              "      padding: 0 0 0 0;\n",
              "      width: 32px;\n",
              "    }\n",
              "\n",
              "    .colab-df-convert:hover {\n",
              "      background-color: #E2EBFA;\n",
              "      box-shadow: 0px 1px 2px rgba(60, 64, 67, 0.3), 0px 1px 3px 1px rgba(60, 64, 67, 0.15);\n",
              "      fill: #174EA6;\n",
              "    }\n",
              "\n",
              "    [theme=dark] .colab-df-convert {\n",
              "      background-color: #3B4455;\n",
              "      fill: #D2E3FC;\n",
              "    }\n",
              "\n",
              "    [theme=dark] .colab-df-convert:hover {\n",
              "      background-color: #434B5C;\n",
              "      box-shadow: 0px 1px 3px 1px rgba(0, 0, 0, 0.15);\n",
              "      filter: drop-shadow(0px 1px 2px rgba(0, 0, 0, 0.3));\n",
              "      fill: #FFFFFF;\n",
              "    }\n",
              "  </style>\n",
              "\n",
              "      <script>\n",
              "        const buttonEl =\n",
              "          document.querySelector('#df-45594925-64f4-40ce-af0a-5fc10799d791 button.colab-df-convert');\n",
              "        buttonEl.style.display =\n",
              "          google.colab.kernel.accessAllowed ? 'block' : 'none';\n",
              "\n",
              "        async function convertToInteractive(key) {\n",
              "          const element = document.querySelector('#df-45594925-64f4-40ce-af0a-5fc10799d791');\n",
              "          const dataTable =\n",
              "            await google.colab.kernel.invokeFunction('convertToInteractive',\n",
              "                                                     [key], {});\n",
              "          if (!dataTable) return;\n",
              "\n",
              "          const docLinkHtml = 'Like what you see? Visit the ' +\n",
              "            '<a target=\"_blank\" href=https://colab.research.google.com/notebooks/data_table.ipynb>data table notebook</a>'\n",
              "            + ' to learn more about interactive tables.';\n",
              "          element.innerHTML = '';\n",
              "          dataTable['output_type'] = 'display_data';\n",
              "          await google.colab.output.renderOutput(dataTable, element);\n",
              "          const docLink = document.createElement('div');\n",
              "          docLink.innerHTML = docLinkHtml;\n",
              "          element.appendChild(docLink);\n",
              "        }\n",
              "      </script>\n",
              "    </div>\n",
              "  </div>\n",
              "  "
            ]
          },
          "metadata": {},
          "execution_count": 37
        }
      ]
    }
  ]
}